{
 "cells": [
  {
   "cell_type": "markdown",
   "metadata": {
    "deletable": false,
    "editable": false,
    "nbgrader": {
     "cell_type": "markdown",
     "checksum": "c3852d244441591f2b79b104f3c24b59",
     "grade": false,
     "grade_id": "cell-3c944884ec7b3d2f",
     "locked": true,
     "schema_version": 3,
     "solution": false,
     "task": false
    }
   },
   "source": [
    "### Assignment 1 (PS1)\n",
    "Applied Machine Learning - SDU (Spring 2025)<br>\n",
    "Lecturer: Rahman Peimankar, Associate Professor (abpe@mmmi.sdu.dk)<br>\n",
    "SDU Health Informatics and Technology, The Mærsk Mc-Kinney Møller Institute\n",
    "\n",
    "##### Due: March 03, 11:00."
   ]
  },
  {
   "cell_type": "markdown",
   "metadata": {
    "deletable": false,
    "editable": false,
    "nbgrader": {
     "cell_type": "markdown",
     "checksum": "522958fc36c53c28932fc57f45316ded",
     "grade": false,
     "grade_id": "cell-b61e75aefc4e0c49",
     "locked": true,
     "schema_version": 3,
     "solution": false,
     "task": false
    }
   },
   "source": [
    "The goal of this assignment is to revise the learning of the topics in Lesson 2 and Lesson 3, which are Python basics (SciPy, NumPy, Pandas, and Matplotlib) plus introduction to supervised learning."
   ]
  },
  {
   "cell_type": "markdown",
   "metadata": {
    "deletable": false,
    "editable": false,
    "nbgrader": {
     "cell_type": "markdown",
     "checksum": "9a4d2539e3510e19c96b3960532f2cf5",
     "grade": false,
     "grade_id": "cell-847231aa902d866e",
     "locked": true,
     "schema_version": 3,
     "solution": false,
     "task": false
    }
   },
   "source": [
    "# Part 1: Numpy"
   ]
  },
  {
   "cell_type": "code",
   "execution_count": 7,
   "metadata": {
    "deletable": false,
    "editable": false,
    "nbgrader": {
     "cell_type": "code",
     "checksum": "64d93ce643d53d8fa8ce20cc1da79ed6",
     "grade": false,
     "grade_id": "cell-7fadea3a1976aafe",
     "locked": true,
     "schema_version": 3,
     "solution": false,
     "task": false
    }
   },
   "outputs": [],
   "source": [
    "import numpy as np"
   ]
  },
  {
   "cell_type": "markdown",
   "metadata": {
    "deletable": false,
    "editable": false,
    "nbgrader": {
     "cell_type": "markdown",
     "checksum": "c42d1d1e8df66fcae0fb510ad464d21e",
     "grade": false,
     "grade_id": "cell-d80e6700e8a8b517",
     "locked": true,
     "schema_version": 3,
     "solution": false,
     "task": false
    }
   },
   "source": [
    "Q1. Return the numpy version number."
   ]
  },
  {
   "cell_type": "code",
   "execution_count": 10,
   "metadata": {
    "deletable": false,
    "nbgrader": {
     "cell_type": "code",
     "checksum": "2877df05696cd168e7880f0d3438bdb2",
     "grade": true,
     "grade_id": "cell-532d8a9aa70fa4ad",
     "locked": false,
     "points": 2,
     "schema_version": 3,
     "solution": true,
     "task": false
    }
   },
   "outputs": [
    {
     "name": "stdout",
     "output_type": "stream",
     "text": [
      "numpy: 1.26.4\n"
     ]
    }
   ],
   "source": [
    "def numpyImport():\n",
    "    print('numpy: {}'.format(np.__version__))\n",
    "\n",
    "numpyImport()"
   ]
  },
  {
   "cell_type": "markdown",
   "metadata": {
    "deletable": false,
    "editable": false,
    "nbgrader": {
     "cell_type": "markdown",
     "checksum": "d0407eb13bdbf04622913938bc3762ed",
     "grade": false,
     "grade_id": "cell-a83571acbcea9ede",
     "locked": true,
     "schema_version": 3,
     "solution": false,
     "task": false
    }
   },
   "source": [
    "Q2. Create a 1D numpy array of numbers from 0 to 50."
   ]
  },
  {
   "cell_type": "code",
   "execution_count": 9,
   "metadata": {
    "deletable": false,
    "nbgrader": {
     "cell_type": "code",
     "checksum": "b812a2a30c4325a7289b574cee56aa5e",
     "grade": false,
     "grade_id": "cell-52aaefe1728fe57d",
     "locked": false,
     "schema_version": 3,
     "solution": true,
     "task": false
    }
   },
   "outputs": [
    {
     "name": "stdout",
     "output_type": "stream",
     "text": [
      "[ 0  1  2  3  4  5  6  7  8  9 10 11 12 13 14 15 16 17 18 19 20 21 22 23\n",
      " 24 25 26 27 28 29 30 31 32 33 34 35 36 37 38 39 40 41 42 43 44 45 46 47\n",
      " 48 49 50]\n",
      "[ 0  1  2  3  4  5  6  7  8  9 10 11 12 13 14 15 16 17 18 19 20 21 22 23\n",
      " 24 25 26 27 28 29 30 31 32 33 34 35 36 37 38 39 40 41 42 43 44 45 46 47\n",
      " 48 49 50]\n"
     ]
    }
   ],
   "source": [
    "def createArray():\n",
    "    length = 50\n",
    "    x = 0\n",
    "    mylist = []\n",
    "    while x <= 50:\n",
    "        mylist.append(x)\n",
    "        x += 1\n",
    "    myarray = np.array(mylist)\n",
    "\n",
    "    myarraynpversion = np.arange(51)\n",
    "    print(myarray)\n",
    "    print(myarraynpversion)\n",
    "\n",
    "createArray()"
   ]
  },
  {
   "cell_type": "code",
   "execution_count": null,
   "metadata": {
    "deletable": false,
    "editable": false,
    "nbgrader": {
     "cell_type": "code",
     "checksum": "6d4608b8b43d2fabdc25c6da59cf86d9",
     "grade": true,
     "grade_id": "cell-c96e62757d0b534c",
     "locked": true,
     "points": 3,
     "schema_version": 3,
     "solution": false,
     "task": false
    }
   },
   "outputs": [],
   "source": []
  },
  {
   "cell_type": "markdown",
   "metadata": {
    "deletable": false,
    "editable": false,
    "nbgrader": {
     "cell_type": "markdown",
     "checksum": "1bbecebce75d64e58db006c3c5fa9106",
     "grade": false,
     "grade_id": "cell-7f1197bafa6b4349",
     "locked": true,
     "schema_version": 3,
     "solution": false,
     "task": false
    }
   },
   "source": [
    "Q3. Create a 3×3 numpy array of all True’s"
   ]
  },
  {
   "cell_type": "code",
   "execution_count": 10,
   "metadata": {
    "deletable": false,
    "nbgrader": {
     "cell_type": "code",
     "checksum": "c6c306b21095612fcb8bdcad57af692f",
     "grade": false,
     "grade_id": "cell-f9e6e1b5521464c4",
     "locked": false,
     "schema_version": 3,
     "solution": true,
     "task": false
    }
   },
   "outputs": [
    {
     "name": "stdout",
     "output_type": "stream",
     "text": [
      "[[ True  True  True]\n",
      " [ True  True  True]\n",
      " [ True  True  True]]\n",
      "[[ True  True  True]\n",
      " [ True  True  True]\n",
      " [ True  True  True]]\n"
     ]
    }
   ],
   "source": [
    "def createArrayBoolean():\n",
    "    mylist = [[True, True, True],[True, True, True],[True,True,True]]\n",
    "    myarray = np.array(mylist)\n",
    "    print(myarray)\n",
    "    #Original way to do it, below is the smarter way\n",
    "    mysmarterarray = np.ones((3,3), dtype=bool)\n",
    "    print(mysmarterarray)\n",
    "\n",
    "createArrayBoolean()"
   ]
  },
  {
   "cell_type": "code",
   "execution_count": null,
   "metadata": {
    "deletable": false,
    "editable": false,
    "nbgrader": {
     "cell_type": "code",
     "checksum": "2ba93446591300f389849a97579816dc",
     "grade": true,
     "grade_id": "cell-a91d0fe924dd27ba",
     "locked": true,
     "points": 3,
     "schema_version": 3,
     "solution": false,
     "task": false
    }
   },
   "outputs": [],
   "source": []
  },
  {
   "cell_type": "markdown",
   "metadata": {
    "deletable": false,
    "editable": false,
    "nbgrader": {
     "cell_type": "markdown",
     "checksum": "506ca77f1d666f141a31be5c46c156ca",
     "grade": false,
     "grade_id": "cell-62a501b46a57cc33",
     "locked": true,
     "schema_version": 3,
     "solution": false,
     "task": false
    }
   },
   "source": [
    "Q4. Replace all odd numbers in the 1D array (length=50) with -1."
   ]
  },
  {
   "cell_type": "code",
   "execution_count": 12,
   "metadata": {
    "deletable": false,
    "nbgrader": {
     "cell_type": "code",
     "checksum": "318cac71ac18bd51f37e712a579491e4",
     "grade": false,
     "grade_id": "cell-13bea117610a0369",
     "locked": false,
     "schema_version": 3,
     "solution": true,
     "task": false
    }
   },
   "outputs": [
    {
     "data": {
      "text/plain": [
       "array([ 0, -1,  2, -1,  4, -1,  6, -1,  8, -1, 10, -1, 12, -1, 14, -1, 16,\n",
       "       -1, 18, -1, 20, -1, 22, -1, 24, -1, 26, -1, 28, -1, 30, -1, 32, -1,\n",
       "       34, -1, 36, -1, 38, -1, 40, -1, 42, -1, 44, -1, 46, -1, 48, -1])"
      ]
     },
     "execution_count": 12,
     "metadata": {},
     "output_type": "execute_result"
    }
   ],
   "source": [
    "def replaceOdd():\n",
    "    '''\n",
    "    This function gets an array of size 50. \n",
    "    Then replace the odd numbers with -1 and return newArr as output.\n",
    "    '''\n",
    "    length = 50\n",
    "    arr = np.arange(length)\n",
    "    \n",
    "    for x in arr:\n",
    "        if(x%2 != 0):\n",
    "            arr[x] = -1\n",
    "    newArr = arr\n",
    "    return newArr\n",
    "\n",
    "replaceOdd()"
   ]
  },
  {
   "cell_type": "code",
   "execution_count": null,
   "metadata": {
    "deletable": false,
    "editable": false,
    "nbgrader": {
     "cell_type": "code",
     "checksum": "2919a2560055f03d64a354a91bed13e1",
     "grade": true,
     "grade_id": "cell-e80f7d8f6963af43",
     "locked": true,
     "points": 3,
     "schema_version": 3,
     "solution": false,
     "task": false
    }
   },
   "outputs": [],
   "source": []
  },
  {
   "cell_type": "markdown",
   "metadata": {
    "deletable": false,
    "editable": false,
    "nbgrader": {
     "cell_type": "markdown",
     "checksum": "8fe8824a1e134c15a04ce11b1ac63b90",
     "grade": false,
     "grade_id": "cell-d68b4a0798ef5527",
     "locked": true,
     "schema_version": 3,
     "solution": false,
     "task": false
    }
   },
   "source": [
    "Q5. Convert a 1D array to a 2D array with 2 rows."
   ]
  },
  {
   "cell_type": "code",
   "execution_count": 59,
   "metadata": {
    "deletable": false,
    "nbgrader": {
     "cell_type": "code",
     "checksum": "9fb4f928291d081b1d9cacf74dc77e3c",
     "grade": false,
     "grade_id": "cell-8a32ffbd221d5edd",
     "locked": false,
     "schema_version": 3,
     "solution": true,
     "task": false
    }
   },
   "outputs": [
    {
     "name": "stdout",
     "output_type": "stream",
     "text": [
      "[[0 1 2 3 4]\n",
      " [5 6 7 8 9]]\n"
     ]
    }
   ],
   "source": [
    "def reshapeArray():\n",
    "    arr = np.arange(10)\n",
    "    arr = arr.reshape(2,-1)\n",
    "    print(arr)\n",
    "\n",
    "reshapeArray()"
   ]
  },
  {
   "cell_type": "code",
   "execution_count": null,
   "metadata": {
    "deletable": false,
    "editable": false,
    "nbgrader": {
     "cell_type": "code",
     "checksum": "8dc17538b704591e383051e99982a0ad",
     "grade": true,
     "grade_id": "cell-5e40da800ae32b5d",
     "locked": true,
     "points": 2,
     "schema_version": 3,
     "solution": false,
     "task": false
    }
   },
   "outputs": [],
   "source": []
  },
  {
   "cell_type": "markdown",
   "metadata": {
    "deletable": false,
    "editable": false,
    "nbgrader": {
     "cell_type": "markdown",
     "checksum": "58f4acd5c05bfc63627f37da61852182",
     "grade": false,
     "grade_id": "cell-d9ddc10ca32461b2",
     "locked": true,
     "schema_version": 3,
     "solution": false,
     "task": false
    }
   },
   "source": [
    "Q6. Stack arrays a and b vertically."
   ]
  },
  {
   "cell_type": "code",
   "execution_count": 43,
   "metadata": {
    "deletable": false,
    "nbgrader": {
     "cell_type": "code",
     "checksum": "0a50bbfb69a5125ee3524fe296d75167",
     "grade": false,
     "grade_id": "cell-f0bbf6f5343dbbd0",
     "locked": false,
     "schema_version": 3,
     "solution": true,
     "task": false
    }
   },
   "outputs": [
    {
     "name": "stdout",
     "output_type": "stream",
     "text": [
      "[[0 1 2 3 4]\n",
      " [5 6 7 8 9]\n",
      " [1 1 1 1 1]\n",
      " [1 1 1 1 1]]\n"
     ]
    }
   ],
   "source": [
    "def stackArray():\n",
    "    a = np.arange(10).reshape(2,-1)\n",
    "    b = np.repeat(1, 10).reshape(2,-1)\n",
    "    print(np.vstack((a,b)))\n",
    "stackArray()"
   ]
  },
  {
   "cell_type": "code",
   "execution_count": null,
   "metadata": {
    "deletable": false,
    "editable": false,
    "nbgrader": {
     "cell_type": "code",
     "checksum": "94668a75a117c182803ee7c5187465ed",
     "grade": true,
     "grade_id": "cell-61c17c7f61004119",
     "locked": true,
     "points": 2,
     "schema_version": 3,
     "solution": false,
     "task": false
    }
   },
   "outputs": [],
   "source": []
  },
  {
   "cell_type": "markdown",
   "metadata": {
    "deletable": false,
    "editable": false,
    "nbgrader": {
     "cell_type": "markdown",
     "checksum": "bac74dfbd96e368bcc680fd3c5e4cab0",
     "grade": false,
     "grade_id": "cell-acf85f713d0c0d9e",
     "locked": true,
     "schema_version": 3,
     "solution": false,
     "task": false
    }
   },
   "source": [
    "# Part 2: Pandas"
   ]
  },
  {
   "cell_type": "code",
   "execution_count": 5,
   "metadata": {
    "deletable": false,
    "editable": false,
    "nbgrader": {
     "cell_type": "code",
     "checksum": "84f9f8aad6adb6f9de077fa59413230d",
     "grade": false,
     "grade_id": "cell-f340558ae58fab8a",
     "locked": true,
     "schema_version": 3,
     "solution": false,
     "task": false
    }
   },
   "outputs": [],
   "source": [
    "import pandas as pd"
   ]
  },
  {
   "cell_type": "markdown",
   "metadata": {
    "deletable": false,
    "editable": false,
    "nbgrader": {
     "cell_type": "markdown",
     "checksum": "ebeb20c413aeb6b7c7c30b2f7c94c3fb",
     "grade": false,
     "grade_id": "cell-d630bb2b018dbf2e",
     "locked": true,
     "schema_version": 3,
     "solution": false,
     "task": false
    }
   },
   "source": [
    "Q7. Take a dictionary as input and create DataFrame namely **df**. "
   ]
  },
  {
   "cell_type": "code",
   "execution_count": 12,
   "metadata": {
    "deletable": false,
    "nbgrader": {
     "cell_type": "code",
     "checksum": "9edafc9a13a2e66ff8995ca1062e3dfb",
     "grade": false,
     "grade_id": "cell-4ce59e210ac03e8e",
     "locked": false,
     "schema_version": 3,
     "solution": true,
     "task": false
    }
   },
   "outputs": [
    {
     "data": {
      "text/html": [
       "<div>\n",
       "<style scoped>\n",
       "    .dataframe tbody tr th:only-of-type {\n",
       "        vertical-align: middle;\n",
       "    }\n",
       "\n",
       "    .dataframe tbody tr th {\n",
       "        vertical-align: top;\n",
       "    }\n",
       "\n",
       "    .dataframe thead th {\n",
       "        text-align: right;\n",
       "    }\n",
       "</style>\n",
       "<table border=\"1\" class=\"dataframe\">\n",
       "  <thead>\n",
       "    <tr style=\"text-align: right;\">\n",
       "      <th></th>\n",
       "      <th>A</th>\n",
       "      <th>B</th>\n",
       "      <th>C</th>\n",
       "    </tr>\n",
       "  </thead>\n",
       "  <tbody>\n",
       "    <tr>\n",
       "      <th>0</th>\n",
       "      <td>1</td>\n",
       "      <td>2</td>\n",
       "      <td>3</td>\n",
       "    </tr>\n",
       "    <tr>\n",
       "      <th>1</th>\n",
       "      <td>4</td>\n",
       "      <td>5</td>\n",
       "      <td>6</td>\n",
       "    </tr>\n",
       "    <tr>\n",
       "      <th>2</th>\n",
       "      <td>7</td>\n",
       "      <td>8</td>\n",
       "      <td>9</td>\n",
       "    </tr>\n",
       "  </tbody>\n",
       "</table>\n",
       "</div>"
      ],
      "text/plain": [
       "   A  B  C\n",
       "0  1  2  3\n",
       "1  4  5  6\n",
       "2  7  8  9"
      ]
     },
     "execution_count": 12,
     "metadata": {},
     "output_type": "execute_result"
    }
   ],
   "source": [
    "def createDF():\n",
    "    my_dict = {'A': [1, 4, 7], 'B': [2, 5, 8], 'C': [3, 6, 9]}\n",
    "    df = pd.DataFrame(my_dict)\n",
    "    return df\n",
    "\n",
    "createDF()"
   ]
  },
  {
   "cell_type": "code",
   "execution_count": null,
   "metadata": {
    "deletable": false,
    "editable": false,
    "nbgrader": {
     "cell_type": "code",
     "checksum": "608b5f5c987de4ee707fcd6918c33be8",
     "grade": true,
     "grade_id": "cell-8449c6dcdb90890b",
     "locked": true,
     "points": 2,
     "schema_version": 3,
     "solution": false,
     "task": false
    }
   },
   "outputs": [],
   "source": []
  },
  {
   "cell_type": "markdown",
   "metadata": {
    "deletable": false,
    "editable": false,
    "nbgrader": {
     "cell_type": "markdown",
     "checksum": "e378e8a3f1f577a907de57d91df026ee",
     "grade": false,
     "grade_id": "cell-4fa16f2159f37a0a",
     "locked": true,
     "schema_version": 3,
     "solution": false,
     "task": false
    }
   },
   "source": [
    "Q8. Complete the function below to access the value that is at index 2, in column 'A'. There are different solutions for this task. You may use 'loc', 'iloc', 'at', or 'iat' methods in Pandas."
   ]
  },
  {
   "cell_type": "code",
   "execution_count": 22,
   "metadata": {
    "deletable": false,
    "nbgrader": {
     "cell_type": "code",
     "checksum": "624ea27ce149600f171303a7cc64b04c",
     "grade": false,
     "grade_id": "cell-e30bbb6b270908dc",
     "locked": false,
     "schema_version": 3,
     "solution": true,
     "task": false
    }
   },
   "outputs": [
    {
     "data": {
      "text/plain": [
       "7"
      ]
     },
     "execution_count": 22,
     "metadata": {},
     "output_type": "execute_result"
    }
   ],
   "source": [
    "def indexDF():\n",
    "    df = createDF()\n",
    "    value = df.at[2, 'A']\n",
    "    return value\n",
    "\n",
    "indexDF()"
   ]
  },
  {
   "cell_type": "code",
   "execution_count": null,
   "metadata": {
    "deletable": false,
    "editable": false,
    "nbgrader": {
     "cell_type": "code",
     "checksum": "1ccbf191438a87b34c33b2ba49158c35",
     "grade": true,
     "grade_id": "cell-d12d0a4f4d153404",
     "locked": true,
     "points": 2,
     "schema_version": 3,
     "solution": false,
     "task": false
    }
   },
   "outputs": [],
   "source": []
  },
  {
   "cell_type": "markdown",
   "metadata": {
    "deletable": false,
    "editable": false,
    "nbgrader": {
     "cell_type": "markdown",
     "checksum": "2b42cebd29213a88d19bb523ca0bb047",
     "grade": false,
     "grade_id": "cell-95d3f28b98bf127e",
     "locked": true,
     "schema_version": 3,
     "solution": false,
     "task": false
    }
   },
   "source": [
    "Q9. Select the first row of the above dataframe."
   ]
  },
  {
   "cell_type": "code",
   "execution_count": 38,
   "metadata": {
    "deletable": false,
    "nbgrader": {
     "cell_type": "code",
     "checksum": "db3e4f2ac27a2d8986835793c213d82b",
     "grade": false,
     "grade_id": "cell-c2c239f4b0d6ee26",
     "locked": false,
     "schema_version": 3,
     "solution": true,
     "task": false
    }
   },
   "outputs": [
    {
     "data": {
      "text/plain": [
       "A    1\n",
       "B    2\n",
       "C    3\n",
       "Name: 0, dtype: int64"
      ]
     },
     "execution_count": 38,
     "metadata": {},
     "output_type": "execute_result"
    }
   ],
   "source": [
    "def selectRowDF():\n",
    "    df = createDF()\n",
    "    row = df.loc[0]\n",
    "    return row\n",
    "\n",
    "selectRowDF()"
   ]
  },
  {
   "cell_type": "code",
   "execution_count": null,
   "metadata": {
    "deletable": false,
    "editable": false,
    "nbgrader": {
     "cell_type": "code",
     "checksum": "364339584cf381a36b1e0580ae7d6d95",
     "grade": true,
     "grade_id": "cell-11836750b0c1cafe",
     "locked": true,
     "points": 2,
     "schema_version": 3,
     "solution": false,
     "task": false
    }
   },
   "outputs": [],
   "source": []
  },
  {
   "cell_type": "markdown",
   "metadata": {
    "deletable": false,
    "editable": false,
    "nbgrader": {
     "cell_type": "markdown",
     "checksum": "f776c71fc9b26cf5596406b3207e4942",
     "grade": false,
     "grade_id": "cell-7351b82314e2b8df",
     "locked": true,
     "schema_version": 3,
     "solution": false,
     "task": false
    }
   },
   "source": [
    "Q10. Select the second column of the above dataframe."
   ]
  },
  {
   "cell_type": "code",
   "execution_count": 74,
   "metadata": {
    "deletable": false,
    "nbgrader": {
     "cell_type": "code",
     "checksum": "a3e60c3cf378e0415551beb4b1dbbb51",
     "grade": false,
     "grade_id": "cell-6d3cea1c21ba30ba",
     "locked": false,
     "schema_version": 3,
     "solution": true,
     "task": false
    }
   },
   "outputs": [
    {
     "data": {
      "text/plain": [
       "0    2\n",
       "1    5\n",
       "2    8\n",
       "Name: B, dtype: int64"
      ]
     },
     "execution_count": 74,
     "metadata": {},
     "output_type": "execute_result"
    }
   ],
   "source": [
    "def selectColDF():\n",
    "    df = createDF()\n",
    "    col = df[\"B\"]\n",
    "    return col\n",
    "\n",
    "selectColDF()"
   ]
  },
  {
   "cell_type": "code",
   "execution_count": null,
   "metadata": {
    "deletable": false,
    "editable": false,
    "nbgrader": {
     "cell_type": "code",
     "checksum": "993e316b3d38748b1ae4d015dddc4b9d",
     "grade": true,
     "grade_id": "cell-ee70f7971ab4d77a",
     "locked": true,
     "points": 2,
     "schema_version": 3,
     "solution": false,
     "task": false
    }
   },
   "outputs": [],
   "source": []
  },
  {
   "cell_type": "markdown",
   "metadata": {
    "deletable": false,
    "editable": false,
    "nbgrader": {
     "cell_type": "markdown",
     "checksum": "c061c7b8470a188a695e453ab57cc594",
     "grade": false,
     "grade_id": "cell-2eae6f7a584bddeb",
     "locked": true,
     "schema_version": 3,
     "solution": false,
     "task": false
    }
   },
   "source": [
    "Q11. Find the second largest value of 'patient 1' for test 'B' and return it as **secondLargest**."
   ]
  },
  {
   "cell_type": "code",
   "execution_count": 154,
   "metadata": {
    "deletable": false,
    "nbgrader": {
     "cell_type": "code",
     "checksum": "489dd38c7c617fbcf6c3652d0de7e9f3",
     "grade": false,
     "grade_id": "cell-db5c1be5024b3506",
     "locked": false,
     "schema_version": 3,
     "solution": true,
     "task": false
    }
   },
   "outputs": [
    {
     "name": "stdout",
     "output_type": "stream",
     "text": [
      "result is: \n",
      "1    0.622109\n",
      "4    0.779976\n",
      "7    0.801872\n",
      "Name: patient 1, dtype: float64\n"
     ]
    },
    {
     "data": {
      "text/plain": [
       "0.7799758081188035"
      ]
     },
     "execution_count": 154,
     "metadata": {},
     "output_type": "execute_result"
    }
   ],
   "source": [
    "def nLargest():\n",
    "    np.random.seed(1234)\n",
    "    df = pd.DataFrame({'test': ['A', 'B', 'C'] * 3,\n",
    "                       'patient 1': np.random.rand(9),\n",
    "                       'patient 2': np.random.randint(0, 15, 9)})\n",
    "    df = df.loc[(df[\"test\"] == \"B\")][\"patient 1\"]\n",
    "    print(df)\n",
    "    secondLargest = df.nlargest(2).iloc[-1]\n",
    "    return secondLargest\n",
    "    \n",
    "print(\"result is: \")\n",
    "nLargest()"
   ]
  },
  {
   "cell_type": "code",
   "execution_count": null,
   "metadata": {
    "deletable": false,
    "editable": false,
    "nbgrader": {
     "cell_type": "code",
     "checksum": "34d5e6851f2412088b19255711ca0b14",
     "grade": true,
     "grade_id": "cell-3a81faf930679fa7",
     "locked": true,
     "points": 5,
     "schema_version": 3,
     "solution": false,
     "task": false
    }
   },
   "outputs": [],
   "source": []
  },
  {
   "cell_type": "markdown",
   "metadata": {
    "deletable": false,
    "editable": false,
    "nbgrader": {
     "cell_type": "markdown",
     "checksum": "6c691d2b5274bdfea7c98fe29254d1e5",
     "grade": false,
     "grade_id": "cell-655eadc2c8aa40b3",
     "locked": true,
     "schema_version": 3,
     "solution": false,
     "task": false
    }
   },
   "source": [
    "Q12. Compute the mean of every test for patient 1. Return the result as a dataframe with columns named 'test' and 'patient 1'."
   ]
  },
  {
   "cell_type": "code",
   "execution_count": null,
   "metadata": {
    "deletable": false,
    "editable": false,
    "nbgrader": {
     "cell_type": "code",
     "checksum": "538e11a79a3b20970fca8c7ffc5ae2cf",
     "grade": false,
     "grade_id": "cell-1d317710d617b7a4",
     "locked": true,
     "schema_version": 3,
     "solution": false,
     "task": false
    }
   },
   "outputs": [],
   "source": [
    "from IPython.display import Image\n",
    "Image(filename='fig1.JPG',width=100, height=100)"
   ]
  },
  {
   "cell_type": "code",
   "execution_count": 172,
   "metadata": {
    "deletable": false,
    "nbgrader": {
     "cell_type": "code",
     "checksum": "a1372c98c7c6f76b2ca6ce18dfd3f9fb",
     "grade": false,
     "grade_id": "cell-e0d98cd266c76031",
     "locked": false,
     "schema_version": 3,
     "solution": true,
     "task": false
    }
   },
   "outputs": [
    {
     "data": {
      "text/html": [
       "<div>\n",
       "<style scoped>\n",
       "    .dataframe tbody tr th:only-of-type {\n",
       "        vertical-align: middle;\n",
       "    }\n",
       "\n",
       "    .dataframe tbody tr th {\n",
       "        vertical-align: top;\n",
       "    }\n",
       "\n",
       "    .dataframe thead th {\n",
       "        text-align: right;\n",
       "    }\n",
       "</style>\n",
       "<table border=\"1\" class=\"dataframe\">\n",
       "  <thead>\n",
       "    <tr style=\"text-align: right;\">\n",
       "      <th></th>\n",
       "      <th>test</th>\n",
       "      <th>patient 1</th>\n",
       "    </tr>\n",
       "  </thead>\n",
       "  <tbody>\n",
       "    <tr>\n",
       "      <th>0</th>\n",
       "      <td>A</td>\n",
       "      <td>0.417781</td>\n",
       "    </tr>\n",
       "    <tr>\n",
       "      <th>1</th>\n",
       "      <td>B</td>\n",
       "      <td>0.734652</td>\n",
       "    </tr>\n",
       "    <tr>\n",
       "      <th>2</th>\n",
       "      <td>C</td>\n",
       "      <td>0.556153</td>\n",
       "    </tr>\n",
       "  </tbody>\n",
       "</table>\n",
       "</div>"
      ],
      "text/plain": [
       "  test  patient 1\n",
       "0    A   0.417781\n",
       "1    B   0.734652\n",
       "2    C   0.556153"
      ]
     },
     "execution_count": 172,
     "metadata": {},
     "output_type": "execute_result"
    }
   ],
   "source": [
    "def groupMean():\n",
    "    np.random.seed(1234)\n",
    "    df = pd.DataFrame({'test': ['A', 'B', 'C'] * 3,\n",
    "                       'patient 1': np.random.rand(9),\n",
    "                       'patient 2': np.random.randint(0, 15, 9)})\n",
    "    mean_A = np.mean(df.loc[df[\"test\"] == \"A\"][\"patient 1\"])\n",
    "    mean_B = np.mean(df.loc[df[\"test\"] == \"B\"][\"patient 1\"])\n",
    "    mean_C = np.mean(df.loc[df[\"test\"] == \"C\"][\"patient 1\"])\n",
    "    df_mean = pd.DataFrame({\n",
    "        \"test\": [\"A\", \"B\", \"C\"],\n",
    "        \"patient 1\": [mean_A, mean_B, mean_C]\n",
    "    })\n",
    "    return df_mean\n",
    "\n",
    "groupMean()"
   ]
  },
  {
   "cell_type": "code",
   "execution_count": null,
   "metadata": {
    "deletable": false,
    "editable": false,
    "nbgrader": {
     "cell_type": "code",
     "checksum": "25714f8c503423655c0e6e979b6a0e90",
     "grade": true,
     "grade_id": "cell-f8adb31781b7ac76",
     "locked": true,
     "points": 5,
     "schema_version": 3,
     "solution": false,
     "task": false
    }
   },
   "outputs": [],
   "source": []
  },
  {
   "cell_type": "markdown",
   "metadata": {
    "deletable": false,
    "editable": false,
    "nbgrader": {
     "cell_type": "markdown",
     "checksum": "a72846310ee483cc469e14f14a694756",
     "grade": false,
     "grade_id": "cell-228a8956bfde306b",
     "locked": true,
     "schema_version": 3,
     "solution": false,
     "task": false
    }
   },
   "source": [
    "Q13. Merge the two dataframes df1 and df2 (defined in the function below) based on the 'patient' and 'blood sugar'. By merge based on the 'patient' and 'blood sugar', it means using pandas 'merge' function. Please see link below for the documentation of \"merge\" function. You should specify “right_on/left_on” parameters of the function such that the two dataframes join on “patient” and “blood sugar”.\n",
    "\n",
    "https://pandas.pydata.org/pandas-docs/stable/reference/api/pandas.DataFrame.merge.html"
   ]
  },
  {
   "cell_type": "code",
   "execution_count": 241,
   "metadata": {
    "deletable": false,
    "nbgrader": {
     "cell_type": "code",
     "checksum": "f05785c7faf568822fc8bd24b13e4a54",
     "grade": false,
     "grade_id": "cell-a45da3ada3191432",
     "locked": false,
     "schema_version": 3,
     "solution": true,
     "task": false
    }
   },
   "outputs": [
    {
     "name": "stdout",
     "output_type": "stream",
     "text": [
      "  patient blood sugar  platelet count\n",
      "0       A        high             361\n",
      "1       B      medium             444\n",
      "2       C         low             203\n",
      "3       A        high             354\n",
      "4       B      medium             302\n",
      "5       C         low             293\n",
      "6       A        high             327\n",
      "7       B      medium             429\n",
      "8       C         low             383\n",
      "  patient blood sugar  platelet count\n",
      "0       A        high             304\n",
      "1       C         low             180\n",
      "2       D        high             321\n",
      "3       A         low             308\n",
      "4       C        high             386\n",
      "5       D         low             432\n"
     ]
    },
    {
     "data": {
      "text/html": [
       "<div>\n",
       "<style scoped>\n",
       "    .dataframe tbody tr th:only-of-type {\n",
       "        vertical-align: middle;\n",
       "    }\n",
       "\n",
       "    .dataframe tbody tr th {\n",
       "        vertical-align: top;\n",
       "    }\n",
       "\n",
       "    .dataframe thead th {\n",
       "        text-align: right;\n",
       "    }\n",
       "</style>\n",
       "<table border=\"1\" class=\"dataframe\">\n",
       "  <thead>\n",
       "    <tr style=\"text-align: right;\">\n",
       "      <th></th>\n",
       "      <th>patient</th>\n",
       "      <th>blood sugar</th>\n",
       "      <th>platelet count_x</th>\n",
       "      <th>platelet count_y</th>\n",
       "    </tr>\n",
       "  </thead>\n",
       "  <tbody>\n",
       "    <tr>\n",
       "      <th>0</th>\n",
       "      <td>A</td>\n",
       "      <td>high</td>\n",
       "      <td>361.0</td>\n",
       "      <td>304.0</td>\n",
       "    </tr>\n",
       "    <tr>\n",
       "      <th>1</th>\n",
       "      <td>A</td>\n",
       "      <td>high</td>\n",
       "      <td>354.0</td>\n",
       "      <td>304.0</td>\n",
       "    </tr>\n",
       "    <tr>\n",
       "      <th>2</th>\n",
       "      <td>A</td>\n",
       "      <td>high</td>\n",
       "      <td>327.0</td>\n",
       "      <td>304.0</td>\n",
       "    </tr>\n",
       "    <tr>\n",
       "      <th>3</th>\n",
       "      <td>A</td>\n",
       "      <td>low</td>\n",
       "      <td>NaN</td>\n",
       "      <td>308.0</td>\n",
       "    </tr>\n",
       "    <tr>\n",
       "      <th>4</th>\n",
       "      <td>B</td>\n",
       "      <td>medium</td>\n",
       "      <td>444.0</td>\n",
       "      <td>NaN</td>\n",
       "    </tr>\n",
       "    <tr>\n",
       "      <th>5</th>\n",
       "      <td>B</td>\n",
       "      <td>medium</td>\n",
       "      <td>302.0</td>\n",
       "      <td>NaN</td>\n",
       "    </tr>\n",
       "    <tr>\n",
       "      <th>6</th>\n",
       "      <td>B</td>\n",
       "      <td>medium</td>\n",
       "      <td>429.0</td>\n",
       "      <td>NaN</td>\n",
       "    </tr>\n",
       "    <tr>\n",
       "      <th>7</th>\n",
       "      <td>C</td>\n",
       "      <td>high</td>\n",
       "      <td>NaN</td>\n",
       "      <td>386.0</td>\n",
       "    </tr>\n",
       "    <tr>\n",
       "      <th>8</th>\n",
       "      <td>C</td>\n",
       "      <td>low</td>\n",
       "      <td>203.0</td>\n",
       "      <td>180.0</td>\n",
       "    </tr>\n",
       "    <tr>\n",
       "      <th>9</th>\n",
       "      <td>C</td>\n",
       "      <td>low</td>\n",
       "      <td>293.0</td>\n",
       "      <td>180.0</td>\n",
       "    </tr>\n",
       "    <tr>\n",
       "      <th>10</th>\n",
       "      <td>C</td>\n",
       "      <td>low</td>\n",
       "      <td>383.0</td>\n",
       "      <td>180.0</td>\n",
       "    </tr>\n",
       "    <tr>\n",
       "      <th>11</th>\n",
       "      <td>D</td>\n",
       "      <td>high</td>\n",
       "      <td>NaN</td>\n",
       "      <td>321.0</td>\n",
       "    </tr>\n",
       "    <tr>\n",
       "      <th>12</th>\n",
       "      <td>D</td>\n",
       "      <td>low</td>\n",
       "      <td>NaN</td>\n",
       "      <td>432.0</td>\n",
       "    </tr>\n",
       "  </tbody>\n",
       "</table>\n",
       "</div>"
      ],
      "text/plain": [
       "   patient blood sugar  platelet count_x  platelet count_y\n",
       "0        A        high             361.0             304.0\n",
       "1        A        high             354.0             304.0\n",
       "2        A        high             327.0             304.0\n",
       "3        A         low               NaN             308.0\n",
       "4        B      medium             444.0               NaN\n",
       "5        B      medium             302.0               NaN\n",
       "6        B      medium             429.0               NaN\n",
       "7        C        high               NaN             386.0\n",
       "8        C         low             203.0             180.0\n",
       "9        C         low             293.0             180.0\n",
       "10       C         low             383.0             180.0\n",
       "11       D        high               NaN             321.0\n",
       "12       D         low               NaN             432.0"
      ]
     },
     "execution_count": 241,
     "metadata": {},
     "output_type": "execute_result"
    }
   ],
   "source": [
    "def mergeDF():\n",
    "    np.random.seed(1234)\n",
    "    df1 = pd.DataFrame({'patient': ['A', 'B', 'C'] * 3,\n",
    "                        'blood sugar': ['high', 'medium', 'low'] * 3,\n",
    "                        'platelet count': np.random.randint(150, 450, 9)})\n",
    "    df2 = pd.DataFrame({'patient': ['A', 'C', 'D'] * 2,\n",
    "                        'blood sugar': ['high', 'low'] * 3,\n",
    "                        'platelet count': np.random.randint(150, 450, 6)})\n",
    "    \n",
    "    df_merged = df1.merge(df2, how=\"outer\", left_on=[\"patient\", \"blood sugar\"], right_on=[\"patient\", \"blood sugar\"])\n",
    "    print(df1)\n",
    "    print(df2)\n",
    "    return df_merged\n",
    "\n",
    "mergeDF()"
   ]
  },
  {
   "cell_type": "code",
   "execution_count": null,
   "metadata": {
    "deletable": false,
    "editable": false,
    "nbgrader": {
     "cell_type": "code",
     "checksum": "372c5502823a14a29f6306bdd65ebcc1",
     "grade": true,
     "grade_id": "cell-62d6496039e58fab",
     "locked": true,
     "points": 7,
     "schema_version": 3,
     "solution": false,
     "task": false
    }
   },
   "outputs": [],
   "source": []
  },
  {
   "cell_type": "markdown",
   "metadata": {
    "deletable": false,
    "editable": false,
    "nbgrader": {
     "cell_type": "markdown",
     "checksum": "57174c7bd961313d26d461fac505f15c",
     "grade": false,
     "grade_id": "cell-604d817086d909cf",
     "locked": true,
     "schema_version": 3,
     "solution": false,
     "task": false
    }
   },
   "source": [
    "# Part 3: Matplotlib"
   ]
  },
  {
   "cell_type": "code",
   "execution_count": 3,
   "metadata": {
    "deletable": false,
    "editable": false,
    "nbgrader": {
     "cell_type": "code",
     "checksum": "e9d407c47431cc8266e1cdb707bc61dc",
     "grade": false,
     "grade_id": "cell-191894bda29956af",
     "locked": true,
     "schema_version": 3,
     "solution": false,
     "task": false
    }
   },
   "outputs": [],
   "source": [
    "import matplotlib.pyplot as plt\n",
    "%matplotlib inline"
   ]
  },
  {
   "cell_type": "markdown",
   "metadata": {
    "deletable": false,
    "editable": false,
    "nbgrader": {
     "cell_type": "markdown",
     "checksum": "31f1da8e7d9dba945842088094c260e2",
     "grade": false,
     "grade_id": "cell-77973affdb9030c9",
     "locked": true,
     "schema_version": 3,
     "solution": false,
     "task": false
    }
   },
   "source": [
    "*%matplotlib inline* is the magic command to plot the graph within the notebook itself. "
   ]
  },
  {
   "cell_type": "code",
   "execution_count": 34,
   "metadata": {
    "deletable": false,
    "editable": false,
    "nbgrader": {
     "cell_type": "code",
     "checksum": "9f15d5f7b9333a5a57d376d4a0528766",
     "grade": false,
     "grade_id": "cell-199745373a7a489c",
     "locked": true,
     "schema_version": 3,
     "solution": false,
     "task": false
    }
   },
   "outputs": [
    {
     "data": {
      "image/png": "[encoded data removed]",
      "text/plain": [
       "<Figure size 640x480 with 1 Axes>"
      ]
     },
     "metadata": {},
     "output_type": "display_data"
    }
   ],
   "source": [
    "x = np.linspace(-1.4, 1.4, 30)\n",
    "plt.plot(x, x, 'g--', x, x**2, 'r:', x, x**3, 'b^')\n",
    "plt.show()"
   ]
  },
  {
   "cell_type": "markdown",
   "metadata": {
    "deletable": false,
    "editable": false,
    "nbgrader": {
     "cell_type": "markdown",
     "checksum": "603afa3310464d68340c7b7375bc8d5b",
     "grade": false,
     "grade_id": "cell-4b8cf494ba42dc62",
     "locked": true,
     "schema_version": 3,
     "solution": false,
     "task": false
    }
   },
   "source": [
    "Q14. Change the line width, the dash style or the alpha level of the above plot. You can get help from the documentation. Write your code in the cell below.<br>\n",
    "https://matplotlib.org/tutorials/introductory/pyplot.html"
   ]
  },
  {
   "cell_type": "code",
   "execution_count": 37,
   "metadata": {
    "deletable": false,
    "nbgrader": {
     "cell_type": "code",
     "checksum": "c1bcbe359c43b37d8b023cd6d8a9e786",
     "grade": true,
     "grade_id": "cell-954a17f5380b5ae2",
     "locked": false,
     "points": 4,
     "schema_version": 3,
     "solution": true,
     "task": false
    }
   },
   "outputs": [
    {
     "data": {
      "image/png": "[encoded data removed]",
      "text/plain": [
       "<Figure size 640x480 with 1 Axes>"
      ]
     },
     "metadata": {},
     "output_type": "display_data"
    }
   ],
   "source": [
    "x = np.linspace(-1.4, 1.4, 30)\n",
    "plt.plot(x, x, 'g*')\n",
    "plt.plot(x, x**2, 'r-.', linewidth=8)\n",
    "plt.plot(x, x**3, 'bo', alpha=0.5)\n",
    "plt.show()"
   ]
  },
  {
   "cell_type": "markdown",
   "metadata": {
    "deletable": false,
    "editable": false,
    "nbgrader": {
     "cell_type": "markdown",
     "checksum": "bd125d0e54e27c483a7c28b0a71c3721",
     "grade": false,
     "grade_id": "cell-dfd5e905b4d0f03c",
     "locked": true,
     "schema_version": 3,
     "solution": false,
     "task": false
    }
   },
   "source": [
    "Q15. Plot multiple figures using Matplotlib **subplot** method. You can use the numpy array **a** below to generate different arrays and plot a 2 by 2 subplot. Write your code in the cell below.  "
   ]
  },
  {
   "cell_type": "code",
   "execution_count": 54,
   "metadata": {
    "deletable": false,
    "editable": false,
    "nbgrader": {
     "cell_type": "code",
     "checksum": "3817f26bd405499570dd58da9ae9e8ca",
     "grade": false,
     "grade_id": "cell-30d72b6e4d6ee17b",
     "locked": true,
     "schema_version": 3,
     "solution": false,
     "task": false
    }
   },
   "outputs": [],
   "source": [
    "a = np.linspace(-1.4, 1.4, 30)\n",
    "a1 = a\n",
    "a2 = a*2\n",
    "a3 = a*3\n",
    "a4 = a*4"
   ]
  },
  {
   "cell_type": "code",
   "execution_count": 68,
   "metadata": {
    "deletable": false,
    "nbgrader": {
     "cell_type": "code",
     "checksum": "e9d2a602da02554a932cf421ee890922",
     "grade": true,
     "grade_id": "cell-f03dfd88f89fa3bd",
     "locked": false,
     "points": 6,
     "schema_version": 3,
     "solution": true,
     "task": false
    }
   },
   "outputs": [
    {
     "data": {
      "image/png": "[encoded data removed]",
      "text/plain": [
       "<Figure size 640x480 with 4 Axes>"
      ]
     },
     "metadata": {},
     "output_type": "display_data"
    }
   ],
   "source": [
    "fig, axs = plt.subplots(2,2)\n",
    "fig.suptitle(\"2 by 2 plots stacked\")\n",
    "axs[0, 0].plot(a1, a2)\n",
    "axs[0, 1].plot(a2, a4, 'tab:red')\n",
    "axs[1, 0].plot(a3, a1, 'tab:green')\n",
    "axs[1, 1].plot(a4, a3, 'tab:grey')\n",
    "\n",
    "plt.show()"
   ]
  },
  {
   "cell_type": "markdown",
   "metadata": {
    "deletable": false,
    "editable": false,
    "nbgrader": {
     "cell_type": "markdown",
     "checksum": "c4b7a68e5b69131f370663d09e2d9e52",
     "grade": false,
     "grade_id": "cell-84caf58eb15606c8",
     "locked": true,
     "schema_version": 3,
     "solution": false,
     "task": false
    }
   },
   "source": [
    "# Part 4: Supervised Learning\n",
    "### k-Nearest Neighbors Implementation \n",
    "As we learnt in the lecture KNN is a very simple yet powerful technique to use in supervised learning problems. Here we would like to implement KNN from scratch instead of using scikit-learn package!<br>\n",
    "In this exercis, you will use Iris Flower Dataset to predict the flower species given four different measurments as below:\n",
    "* Sepal length in cm.\n",
    "* Sepal width in cm.\n",
    "* Petal length in cm.\n",
    "* Petal width in cm.\n",
    "\n",
    "But in order to implement KNN from scratch in Python, three steps should be considered:\n",
    "\n",
    "1. Compute Euclidean Distance\n",
    "2. Find Nearest Neighbors\n",
    "3. Do the Predictions"
   ]
  },
  {
   "cell_type": "markdown",
   "metadata": {
    "deletable": false,
    "editable": false,
    "nbgrader": {
     "cell_type": "markdown",
     "checksum": "84098780f166002d039085bb2543852b",
     "grade": false,
     "grade_id": "cell-445b77d5521104ea",
     "locked": true,
     "schema_version": 3,
     "solution": false,
     "task": false
    }
   },
   "source": [
    "**Step 1:** <br>\n",
    "The straight line between two vectors (Euclidean distance) can be calculated using equation below:<br>\n",
    "\n",
    "* $Euclidean Distance(a, b) = \\sqrt{\\sum_{i=1}^{n}(a_i-b_i)^2}$ <br>\n",
    "\n",
    "where $a$ and $b$ are the first and the second vectors (rows of data) and $i$ is the index to each attribute (column in the dataset). **The smaller the value of Euclidean Distance, the more similar the two vetors are.** <br> \n",
    "\n",
    "Now, it is your turn to complete the function below to implement Euclidean Distance.<br>\n",
    "**Improtant:** You are not allowed to use \"*from sklearn.metrics import euclidean_distances*\" ! "
   ]
  },
  {
   "cell_type": "code",
   "execution_count": 230,
   "metadata": {
    "deletable": false,
    "editable": false,
    "nbgrader": {
     "cell_type": "code",
     "checksum": "2849f1c1dc589b99d95bf97a75b09fe4",
     "grade": false,
     "grade_id": "cell-02df2e645a07513a",
     "locked": true,
     "schema_version": 3,
     "solution": false,
     "task": false
    }
   },
   "outputs": [],
   "source": [
    "from math import sqrt"
   ]
  },
  {
   "cell_type": "code",
   "execution_count": 237,
   "metadata": {
    "deletable": false,
    "nbgrader": {
     "cell_type": "code",
     "checksum": "6d3c65f389fa78a06f83ef03aba035b4",
     "grade": true,
     "grade_id": "cell-0b6d50fd261b5030",
     "locked": false,
     "points": 7,
     "schema_version": 3,
     "solution": true,
     "task": false
    }
   },
   "outputs": [],
   "source": [
    "def euclideanDistance(row1, row2):\n",
    "    val = 0;\n",
    "    for x in range(len(row1)):\n",
    "        val += (row1[x] - row2[x])**2\n",
    "        \n",
    "    euclidean_distance = sqrt(val)\n",
    "    return euclidean_distance"
   ]
  },
  {
   "cell_type": "markdown",
   "metadata": {
    "deletable": false,
    "editable": false,
    "nbgrader": {
     "cell_type": "markdown",
     "checksum": "93f339f2c463ecbc7db9a506675132cb",
     "grade": false,
     "grade_id": "cell-8ae85d086f43fa74",
     "locked": true,
     "schema_version": 3,
     "solution": false,
     "task": false
    }
   },
   "source": [
    "**Hint:** You may check your implementation by passing this toy dataset: <br>\n",
    "dataset = [[1, 2], [3, 4]] <br>\n",
    "The Euclidean distance between the two columns should be equal to 2."
   ]
  },
  {
   "cell_type": "code",
   "execution_count": 240,
   "metadata": {
    "deletable": false,
    "editable": false,
    "nbgrader": {
     "cell_type": "code",
     "checksum": "f5c0a891ec379032ca8a29a586da4409",
     "grade": false,
     "grade_id": "cell-719d47b56fdca5a8",
     "locked": true,
     "schema_version": 3,
     "solution": false,
     "task": false
    }
   },
   "outputs": [
    {
     "name": "stdout",
     "output_type": "stream",
     "text": [
      "0.0\n",
      "2.8284271247461903\n"
     ]
    }
   ],
   "source": [
    "dataset = [[1, 2], [3, 4]]\n",
    "row0 = dataset[0]\n",
    "for row in dataset:\n",
    "    euclidean_distance = euclideanDistance(row0, row)\n",
    "    print(euclidean_distance)"
   ]
  },
  {
   "cell_type": "markdown",
   "metadata": {
    "deletable": false,
    "editable": false,
    "nbgrader": {
     "cell_type": "markdown",
     "checksum": "3c40e4f0234d8f67b7ee557387284126",
     "grade": false,
     "grade_id": "cell-b8d04a3bbc143f42",
     "locked": true,
     "schema_version": 3,
     "solution": false,
     "task": false
    }
   },
   "source": [
    "**Step 2:**\n",
    "* In order to find *k* nearest points for a new data sample, the Eudlidean distance between the the new sample and all the rows of the dataset should be first calculated (using the function in the previous step). Then, all the samples in the dataset should be sorted based on their distance to the new data. Finally, the top *k* can be returned as the most similar samples/neighbors. <br>\n",
    "* This can be done by storing the index and the Euclidean distance of each sample of the dataset in a tuple (https://jakevdp.github.io/WhirlwindTourOfPython/06-built-in-data-structures.html) and sort the list of the tuples by their Euclidean distances and then extract the nearest neighbors. \n",
    "* Now it is your turn to complete the function below (*findNeighbors*) to implmenet these functionality. "
   ]
  },
  {
   "cell_type": "code",
   "execution_count": 242,
   "metadata": {
    "deletable": false,
    "nbgrader": {
     "cell_type": "code",
     "checksum": "807588268b0ce35bb4d99621c52b0f27",
     "grade": false,
     "grade_id": "cell-78fd8086694122fa",
     "locked": false,
     "schema_version": 3,
     "solution": true,
     "task": false
    }
   },
   "outputs": [],
   "source": [
    "def findNeighbors(train_data, test_sample, numNeighbors):\n",
    "    distances = list()\n",
    "    for train_row in train_data:\n",
    "        dist = euclideanDistance(test_sample, train_row)\n",
    "        distances.append((train_row, dist))\n",
    "    # YOUR CODE HERE\n",
    "    raise NotImplementedError()\n",
    "    neighbors = list()\n",
    "    for i in range(numNeighbors):\n",
    "        # YOUR CODE HERE\n",
    "        raise NotImplementedError()\n",
    "    return neighbors"
   ]
  },
  {
   "cell_type": "markdown",
   "metadata": {
    "deletable": false,
    "editable": false,
    "nbgrader": {
     "cell_type": "markdown",
     "checksum": "b467066f1475b6cd57a7e06f9d49f639",
     "grade": false,
     "grade_id": "cell-894b1605314ae246",
     "locked": true,
     "schema_version": 3,
     "solution": false,
     "task": false
    }
   },
   "source": [
    "**Hint:** You may check your implementation by passing this toy dataset:<br>\n",
    "dataset = [[2.8,2.6,1],[1.5,2.4,0],[1.1,2.8,0],[2.4,2.5,1]] (the last column represents the true classes or targets)<br>\n",
    "As it is expected, the second row is the most similiar and the third row ([1.1,2.8,0]) is the second nearest neighbor to a new sample [1.55,2.44]."
   ]
  },
  {
   "cell_type": "code",
   "execution_count": null,
   "metadata": {
    "deletable": false,
    "editable": false,
    "nbgrader": {
     "cell_type": "code",
     "checksum": "dea794a7ab8ce3ac6d5a5b407857979e",
     "grade": true,
     "grade_id": "cell-38d0babd7541974d",
     "locked": true,
     "points": 8,
     "schema_version": 3,
     "solution": false,
     "task": false
    }
   },
   "outputs": [],
   "source": []
  },
  {
   "cell_type": "code",
   "execution_count": 246,
   "metadata": {
    "deletable": false,
    "editable": false,
    "nbgrader": {
     "cell_type": "code",
     "checksum": "9d8dec09956c740732b82f41e2352434",
     "grade": false,
     "grade_id": "cell-70e83a46032667e9",
     "locked": true,
     "schema_version": 3,
     "solution": false,
     "task": false
    }
   },
   "outputs": [
    {
     "name": "stdout",
     "output_type": "stream",
     "text": [
      "[([2.8, 2.6, 1], 1.260198397078809), ([1.5, 2.4, 0], 0.06403124237432854), ([1.1, 2.8, 0], 0.5762811813689562), ([2.4, 2.5, 1], 0.8521150157109073)]\n"
     ]
    },
    {
     "ename": "NotImplementedError",
     "evalue": "",
     "output_type": "error",
     "traceback": [
      "\u001b[1;31m---------------------------------------------------------------------------\u001b[0m",
      "\u001b[1;31mNotImplementedError\u001b[0m                       Traceback (most recent call last)",
      "Cell \u001b[1;32mIn[246], line 5\u001b[0m\n\u001b[0;32m      1\u001b[0m dataset \u001b[38;5;241m=\u001b[39m [[\u001b[38;5;241m2.8\u001b[39m,\u001b[38;5;241m2.6\u001b[39m,\u001b[38;5;241m1\u001b[39m],\n\u001b[0;32m      2\u001b[0m            [\u001b[38;5;241m1.5\u001b[39m,\u001b[38;5;241m2.4\u001b[39m,\u001b[38;5;241m0\u001b[39m],\n\u001b[0;32m      3\u001b[0m            [\u001b[38;5;241m1.1\u001b[39m,\u001b[38;5;241m2.8\u001b[39m,\u001b[38;5;241m0\u001b[39m],\n\u001b[0;32m      4\u001b[0m            [\u001b[38;5;241m2.4\u001b[39m,\u001b[38;5;241m2.5\u001b[39m,\u001b[38;5;241m1\u001b[39m]]\n\u001b[1;32m----> 5\u001b[0m neighbors \u001b[38;5;241m=\u001b[39m findNeighbors(dataset, [\u001b[38;5;241m1.55\u001b[39m,\u001b[38;5;241m2.44\u001b[39m], numNeighbors\u001b[38;5;241m=\u001b[39m\u001b[38;5;241m2\u001b[39m)\n\u001b[0;32m      6\u001b[0m \u001b[38;5;28;01mfor\u001b[39;00m n \u001b[38;5;129;01min\u001b[39;00m neighbors:\n\u001b[0;32m      7\u001b[0m     \u001b[38;5;28mprint\u001b[39m(n)\n",
      "Cell \u001b[1;32mIn[242], line 7\u001b[0m, in \u001b[0;36mfindNeighbors\u001b[1;34m(train_data, test_sample, numNeighbors)\u001b[0m\n\u001b[0;32m      5\u001b[0m     distances\u001b[38;5;241m.\u001b[39mappend((train_row, dist))\n\u001b[0;32m      6\u001b[0m \u001b[38;5;28mprint\u001b[39m(distances)\n\u001b[1;32m----> 7\u001b[0m \u001b[38;5;28;01mraise\u001b[39;00m \u001b[38;5;167;01mNotImplementedError\u001b[39;00m()\n\u001b[0;32m      8\u001b[0m neighbors \u001b[38;5;241m=\u001b[39m \u001b[38;5;28mlist\u001b[39m()\n\u001b[0;32m      9\u001b[0m \u001b[38;5;28;01mfor\u001b[39;00m i \u001b[38;5;129;01min\u001b[39;00m \u001b[38;5;28mrange\u001b[39m(numNeighbors):\n\u001b[0;32m     10\u001b[0m     \u001b[38;5;66;03m# YOUR CODE HERE\u001b[39;00m\n",
      "\u001b[1;31mNotImplementedError\u001b[0m: "
     ]
    }
   ],
   "source": [
    "dataset = [[2.8,2.6,1],\n",
    "           [1.5,2.4,0],\n",
    "           [1.1,2.8,0],\n",
    "           [2.4,2.5,1]]\n",
    "neighbors = findNeighbors(dataset, [1.55,2.44], numNeighbors=2)\n",
    "for n in neighbors:\n",
    "    print(n)"
   ]
  },
  {
   "cell_type": "markdown",
   "metadata": {
    "deletable": false,
    "editable": false,
    "nbgrader": {
     "cell_type": "markdown",
     "checksum": "420f5f8ca65b32ad20ec38ff6666c590",
     "grade": false,
     "grade_id": "cell-56c1959fec28266b",
     "locked": true,
     "schema_version": 3,
     "solution": false,
     "task": false
    }
   },
   "source": [
    "**Step 3:** \n",
    "<br>Now that we have found the nearest neighbors, we can use them to make predictions on the new samples. Since our problem is a classification task, we simply need to return the most representative class among the neighbors. For this purpose, we need to count the number of each class among the neighbors. \n",
    "\n",
    "Now it is your turn to complete the function below (makePrediction) to implmenet these functionality. You should output a"
   ]
  },
  {
   "cell_type": "code",
   "execution_count": null,
   "metadata": {
    "deletable": false,
    "nbgrader": {
     "cell_type": "code",
     "checksum": "cac0dd3b0207af0faafb1d9420b04fa0",
     "grade": false,
     "grade_id": "cell-7f31dc44f0f65b98",
     "locked": false,
     "schema_version": 3,
     "solution": true,
     "task": false
    }
   },
   "outputs": [],
   "source": [
    "def predictClassification(train_data, test_sample, numNeighbors):\n",
    "    \n",
    "    '''The inputs for this function are:\n",
    "    1. train_data: the training dataset\n",
    "    2. test_sample: the new test sample that we would like to make prediction for it.\n",
    "    3. numNeighbors: number of neighbors used in the \"findNeighbors\" function.\n",
    "    The output of this function is the predicted class for the test sample.'''\n",
    "    \n",
    "    neighbors = findNeighbors(train_data, test_sample, numNeighbors)\n",
    "    # YOUR CODE HERE\n",
    "    raise NotImplementedError()\n",
    "    return predicted_class"
   ]
  },
  {
   "cell_type": "code",
   "execution_count": null,
   "metadata": {
    "deletable": false,
    "editable": false,
    "nbgrader": {
     "cell_type": "code",
     "checksum": "9451aef233eccbf76af16c2bb586baa0",
     "grade": true,
     "grade_id": "cell-63f978b5c91f5006",
     "locked": true,
     "points": 8,
     "schema_version": 3,
     "solution": false,
     "task": false
    }
   },
   "outputs": [],
   "source": []
  },
  {
   "cell_type": "markdown",
   "metadata": {
    "deletable": false,
    "editable": false,
    "nbgrader": {
     "cell_type": "markdown",
     "checksum": "42b7d54bc14941f25f55c2dabbb7128d",
     "grade": false,
     "grade_id": "cell-30d16bcf9fa2cc41",
     "locked": true,
     "schema_version": 3,
     "solution": false,
     "task": false
    }
   },
   "source": [
    "**Hint:** You may check your implementation by passing this toy dataset:<br>\n",
    "dataset = [[2.8,2.6,1],[1.5,2.4,0],[1.1,2.8,0],[2.4,2.5,1]]<br>\n",
    "If we pass a new \"test_sample\" of [1.55,2.44], the \"predict_classification\" function should classify it as 0. (numNeighbors=2)"
   ]
  },
  {
   "cell_type": "code",
   "execution_count": null,
   "metadata": {
    "deletable": false,
    "editable": false,
    "nbgrader": {
     "cell_type": "code",
     "checksum": "cdf34a88cf1dad1f794d97f6bed3d7c9",
     "grade": false,
     "grade_id": "cell-5b12fbdf3ae919c4",
     "locked": true,
     "schema_version": 3,
     "solution": false,
     "task": false
    }
   },
   "outputs": [],
   "source": [
    "dataset = [[2.8,2.6,1],\n",
    "           [1.5,2.4,0],\n",
    "           [1.1,2.8,0],\n",
    "           [2.4,2.5,1]]\n",
    "print('The the new test sample {} is predicted as class {}'.format([1.55,2.44], \n",
    "                                                                   predictClassification(dataset, [1.55,2.44], 2)))"
   ]
  },
  {
   "cell_type": "markdown",
   "metadata": {
    "deletable": false,
    "editable": false,
    "nbgrader": {
     "cell_type": "markdown",
     "checksum": "20668183c3f157cd5a21dbb3c31ebea4",
     "grade": false,
     "grade_id": "cell-8de6e4e4a356c826",
     "locked": true,
     "schema_version": 3,
     "solution": false,
     "task": false
    }
   },
   "source": [
    "**Put everything together:** Now we have all the elements for applying our own kNN algorithm on the *Iris Flower Dataset*. This should be done in the following steps:\n",
    "\n",
    "a. Load the Iris Flower dataset using *scikit-learn*. (please name the loaded dataset as **data_iris**)<br>\n",
    "b. Apply the three functions developed in the previous steps to find the 5 nearest neighbors ($K=5$) and make predictions on the test data.<br>\n",
    "c. Report the accuracy of the kNN algorithm on the test dataset.<br>"
   ]
  },
  {
   "cell_type": "code",
   "execution_count": null,
   "metadata": {
    "deletable": false,
    "nbgrader": {
     "cell_type": "code",
     "checksum": "32aac12182be51dff8d4888a7d860828",
     "grade": false,
     "grade_id": "cell-b40bc0750d375bce",
     "locked": false,
     "schema_version": 3,
     "solution": true,
     "task": false
    }
   },
   "outputs": [],
   "source": [
    "from sklearn.datasets import load_iris\n",
    "# YOUR CODE HERE\n",
    "raise NotImplementedError()"
   ]
  },
  {
   "cell_type": "code",
   "execution_count": null,
   "metadata": {
    "deletable": false,
    "editable": false,
    "nbgrader": {
     "cell_type": "code",
     "checksum": "8cbf41d3d3e986952a46ef11820b715a",
     "grade": true,
     "grade_id": "cell-3adab0d7dd44aad0",
     "locked": true,
     "points": 4,
     "schema_version": 3,
     "solution": false,
     "task": false
    }
   },
   "outputs": [],
   "source": []
  },
  {
   "cell_type": "markdown",
   "metadata": {
    "deletable": false,
    "editable": false,
    "nbgrader": {
     "cell_type": "markdown",
     "checksum": "be182b8a3e10130fbe919f34a053250e",
     "grade": false,
     "grade_id": "cell-3baf41be3a4e0464",
     "locked": true,
     "schema_version": 3,
     "solution": false,
     "task": false
    }
   },
   "source": [
    "Let's split the loaded dataset (**data_iris**) into 80% and 20% of train and test sets, respectively.<br>\n",
    "Please name the outputs of \"*train_test_split*\" as *X_train, X_test, y_train, y_test*. \n",
    "\n",
    "**Improtant:** You should set \"*random_state=42*\" for the \"*train_test_split*\" methods/function. Otherwise, your answer will be graded as wrong!"
   ]
  },
  {
   "cell_type": "code",
   "execution_count": null,
   "metadata": {
    "deletable": false,
    "nbgrader": {
     "cell_type": "code",
     "checksum": "b0404e6806c1bfe558f49d9e4eb04369",
     "grade": false,
     "grade_id": "cell-8e5c384e0beeb56f",
     "locked": false,
     "schema_version": 3,
     "solution": true,
     "task": false
    }
   },
   "outputs": [],
   "source": [
    "from sklearn.model_selection import train_test_split\n",
    "# YOUR CODE HERE\n",
    "raise NotImplementedError()"
   ]
  },
  {
   "cell_type": "code",
   "execution_count": null,
   "metadata": {
    "deletable": false,
    "editable": false,
    "nbgrader": {
     "cell_type": "code",
     "checksum": "015ee6808cffb5abdcbc1cb898fcb69d",
     "grade": true,
     "grade_id": "cell-2f2fbc555e3acc9a",
     "locked": true,
     "points": 4,
     "schema_version": 3,
     "solution": false,
     "task": false
    }
   },
   "outputs": [],
   "source": []
  },
  {
   "cell_type": "markdown",
   "metadata": {
    "deletable": false,
    "editable": false,
    "nbgrader": {
     "cell_type": "markdown",
     "checksum": "dd2a110cd17894ac2464f5a89302963d",
     "grade": false,
     "grade_id": "cell-f0eff3225d582c01",
     "locked": true,
     "schema_version": 3,
     "solution": false,
     "task": false
    }
   },
   "source": [
    "Let's implement a function for our kNN algorithm, which outputs a list of predictions for all the test samples. "
   ]
  },
  {
   "cell_type": "code",
   "execution_count": null,
   "metadata": {
    "deletable": false,
    "nbgrader": {
     "cell_type": "code",
     "checksum": "b4fd40360f51552d13d36a78341adf86",
     "grade": false,
     "grade_id": "cell-c6840061947e6a12",
     "locked": false,
     "schema_version": 3,
     "solution": true,
     "task": false
    }
   },
   "outputs": [],
   "source": [
    "def kNearestNeighbors(train_data, train_target, test_data, test_target, numNeighbors):\n",
    "    predictions = list()\n",
    "    # these two lines add the train and test targets to the data. Please do not modify them!\n",
    "    train = np.append(train_data, train_target.reshape(train_target.shape[0], 1), axis=1)\n",
    "    test = np.append(test_data, test_target.reshape(test_target.shape[0], 1), axis=1)\n",
    "    # YOUR CODE HERE\n",
    "    raise NotImplementedError()\n",
    "    return predictions"
   ]
  },
  {
   "cell_type": "code",
   "execution_count": null,
   "metadata": {
    "deletable": false,
    "editable": false,
    "nbgrader": {
     "cell_type": "code",
     "checksum": "61fdb44258dfabf39191a0b384730859",
     "grade": true,
     "grade_id": "cell-760dbaa689ac7698",
     "locked": true,
     "points": 8,
     "schema_version": 3,
     "solution": false,
     "task": false
    }
   },
   "outputs": [],
   "source": []
  },
  {
   "cell_type": "markdown",
   "metadata": {
    "deletable": false,
    "editable": false,
    "nbgrader": {
     "cell_type": "markdown",
     "checksum": "8d714ef1152a52778bb6f50b75d2e844",
     "grade": false,
     "grade_id": "cell-53a36a017eca127a",
     "locked": true,
     "schema_version": 3,
     "solution": false,
     "task": false
    }
   },
   "source": [
    "Complete the function below to calculate the accuracy of the kNN algorithm!"
   ]
  },
  {
   "cell_type": "code",
   "execution_count": null,
   "metadata": {
    "deletable": false,
    "nbgrader": {
     "cell_type": "code",
     "checksum": "77fbe70898ee6f0d5933c4c63e561926",
     "grade": false,
     "grade_id": "cell-725969594b503556",
     "locked": false,
     "schema_version": 3,
     "solution": true,
     "task": false
    }
   },
   "outputs": [],
   "source": [
    "def accCalculation(actual, predicted):\n",
    "    '''This function gets the actual class labels and the predictions from \"kNearestNeighbors\" function as inputs. \n",
    "    The output is the accuracy in percentage.'''\n",
    "    # YOUR CODE HERE\n",
    "    raise NotImplementedError()\n",
    "    return accuracy"
   ]
  },
  {
   "cell_type": "code",
   "execution_count": null,
   "metadata": {
    "deletable": false,
    "editable": false,
    "nbgrader": {
     "cell_type": "code",
     "checksum": "dd76dd8bc49f292592393c249fadb1f3",
     "grade": true,
     "grade_id": "cell-271d78cb4e61d25e",
     "locked": true,
     "points": 11,
     "schema_version": 3,
     "solution": false,
     "task": false
    }
   },
   "outputs": [],
   "source": []
  },
  {
   "cell_type": "markdown",
   "metadata": {
    "deletable": false,
    "editable": false,
    "nbgrader": {
     "cell_type": "markdown",
     "checksum": "eab056e813b08c61eebde71ef94e7137",
     "grade": false,
     "grade_id": "cell-dd1e9a51673dcfdc",
     "locked": true,
     "schema_version": 3,
     "solution": false,
     "task": false
    }
   },
   "source": [
    "# End of PS1.\n",
    "# Thank you!"
   ]
  }
 ],
 "metadata": {
  "celltoolbar": "Edit Metadata",
  "kernelspec": {
   "display_name": "Python [conda env:base] *",
   "language": "python",
   "name": "conda-base-py"
  },
  "language_info": {
   "codemirror_mode": {
    "name": "ipython",
    "version": 3
   },
   "file_extension": ".py",
   "mimetype": "text/x-python",
   "name": "python",
   "nbconvert_exporter": "python",
   "pygments_lexer": "ipython3",
   "version": "3.12.7"
  }
 },
 "nbformat": 4,
 "nbformat_minor": 4
}
